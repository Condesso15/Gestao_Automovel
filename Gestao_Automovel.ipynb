{
  "nbformat": 4,
  "nbformat_minor": 0,
  "metadata": {
    "colab": {
      "provenance": [],
      "include_colab_link": true
    },
    "kernelspec": {
      "name": "python3",
      "display_name": "Python 3"
    },
    "language_info": {
      "name": "python"
    }
  },
  "cells": [
    {
      "cell_type": "markdown",
      "metadata": {
        "id": "view-in-github",
        "colab_type": "text"
      },
      "source": [
        "<a href=\"https://colab.research.google.com/github/Condesso15/Gestao_Automovel/blob/main/Gestao_Automovel.ipynb\" target=\"_parent\"><img src=\"https://colab.research.google.com/assets/colab-badge.svg\" alt=\"Open In Colab\"/></a>"
      ]
    },
    {
      "cell_type": "markdown",
      "source": [
        "## Gestão de Alugueres de Automóveis 🚓\n",
        "\n",
        "UC- Metodologias Ágeis e Desenvolvimento de Software\n",
        "\n",
        " Este projeto tem como objetivo o desenvolvimento de um sistema completo de gestão de alugueres de automóveis, permitindo a administração eficiente dos clientes, da frota de veículos e dos alugueres realizados. Para além disso, a aplicação oferece relatórios e estatísticas operacionais úteis para apoiar a tomada de decisões.\n",
        "\n",
        "**O sistema contempla as seguintes funcionalidades:**\n",
        "\n",
        "\n",
        "*   Gestão de Veículos\n",
        "*   Gestão de Clientes\n",
        "*   Gestão de Alugueres\n",
        "*   Relatórios e Estatísticas\n",
        "\n",
        "O desenvolvimento foi organizado por iterações, com práticas ágeis e testes contínuos. O código encontra-se modularizado, com validação de dados, tratamento de exceções e cobertura de testes unitários elevada.\n",
        "\n",
        "Link para [Google Docs](https://docs.google.com/presentation/d/1taVJbjYTd9e_VJIZtNQemrkN_iWCTrnHzQQkGdiy_Zw/edit#slide=id.g335199014b4_0_25)\n",
        "\n",
        "Autores: João Braga, Diogo Fernandes, Gonçalo Condesso , Víctor Ramos\n",
        "\n",
        "Data: 24/04/2025 , Porto"
      ],
      "metadata": {
        "id": "FLyJaJ0cLAer"
      }
    },
    {
      "cell_type": "markdown",
      "source": [
        "## Gerir Veículos\n",
        "\n",
        "\n",
        "\n",
        "*   Esta classe é responsável por gerir a frota de veículos disponíveis para aluguer. Permite adicionar, atualizar, listar e analisar os veículos registados no sistema.\n",
        "\n",
        "\n"
      ],
      "metadata": {
        "id": "oAWvb7MeTOM6"
      }
    },
    {
      "cell_type": "code",
      "source": [
        "from datetime import datetime\n",
        "from collections import defaultdict\n",
        "\n",
        "class GestorVeiculos:\n",
        "    def __init__(self):\n",
        "        self.veiculos = {}\n",
        "\n",
        "    def adicionar_veiculo(self, matricula, marca, modelo, data, combustivel, quilometros, preco_dia):\n",
        "        if matricula in self.veiculos:\n",
        "            print(f\"Erro: O veículo com a matrícula {matricula} já existe no sistema.\")\n",
        "            return\n",
        "\n",
        "        self.veiculos[matricula] = {\n",
        "            \"Marca\": marca,\n",
        "            \"Modelo\": modelo,\n",
        "            \"Data\": data,\n",
        "            \"Combustível\": combustivel,\n",
        "            \"Quilómetros\": quilometros,\n",
        "            \"Preço/Dia\": preco_dia\n",
        "        }\n",
        "        print(f\"Veículo com matrícula {matricula} adicionado com sucesso!\")\n",
        "\n",
        "    def atualizar_veiculo(self, matricula, nova_matricula=None, marca=None, modelo=None, data=None, combustivel=None, quilometros=None, preco_dia=None):\n",
        "        if matricula not in self.veiculos:\n",
        "            print(f\"Erro: O veículo com a matrícula {matricula} não existe no sistema.\")\n",
        "            return\n",
        "\n",
        "        veiculo = self.veiculos.pop(matricula)\n",
        "\n",
        "        if nova_matricula:\n",
        "            if nova_matricula in self.veiculos:\n",
        "                print(f\"Erro: A nova matrícula {nova_matricula} já existe no sistema.\")\n",
        "                self.veiculos[matricula] = veiculo\n",
        "                return\n",
        "            matricula = nova_matricula\n",
        "\n",
        "        if marca:\n",
        "            veiculo[\"Marca\"] = marca\n",
        "        if modelo:\n",
        "            veiculo[\"Modelo\"] = modelo\n",
        "        if data:\n",
        "            veiculo[\"Data\"] = data\n",
        "        if combustivel:\n",
        "            veiculo[\"Combustível\"] = combustivel\n",
        "        if quilometros is not None:\n",
        "            veiculo[\"Quilómetros\"] = quilometros\n",
        "        if preco_dia is not None:\n",
        "            veiculo[\"Preço/Dia\"] = preco_dia\n",
        "\n",
        "        self.veiculos[matricula] = veiculo\n",
        "        print(f\"Veículo atualizado com sucesso!\")\n",
        "\n",
        "    def listar_veiculos(self):\n",
        "        if not self.veiculos:\n",
        "            print(\"Nenhum veículo cadastrado.\")\n",
        "        else:\n",
        "            print(\"+------------+--------------+--------------+------+-------------+-------------+------------+\")\n",
        "            print(\"| Matrícula  | Marca        | Modelo       | Data | Combustível | Quilómetros | Preço/Dia  |\")\n",
        "            print(\"+------------+--------------+--------------+------+-------------+-------------+------------+\")\n",
        "            for matricula, dados in self.veiculos.items():\n",
        "                print(f\"| {matricula:<10} | {dados['Marca']:<12} | {dados['Modelo']:<12} | {dados['Data']:<4} | {dados['Combustível']:<11} | {dados['Quilómetros']:<11} | {dados['Preço/Dia']:<10.2f} |\")\n",
        "            print(\"+------------+--------------+--------------+------+-------------+-------------+------------+\")\n",
        "\n",
        "    def quilometragem_total(self):\n",
        "        total = sum(veiculo[\"Quilómetros\"] for veiculo in self.veiculos.values())\n",
        "        print(f\"\\nDistância total percorrida pela frota: {total} km\")\n",
        "\n",
        "    def manutencao_preventiva(self, limite_km=100000):\n",
        "        print(f\"\\nVeículos com mais de {limite_km} km (sugerido para manutenção preventiva):\")\n",
        "        encontrou = False\n",
        "        for matricula, dados in self.veiculos.items():\n",
        "            if dados[\"Quilómetros\"] > limite_km:\n",
        "                print(f\"- {matricula}: {dados['Marca']} {dados['Modelo']} | {dados['Quilómetros']} km\")\n",
        "                encontrou = True\n",
        "        if not encontrou:\n",
        "            print(\"Nenhum veículo precisa de manutenção preventiva neste momento.\")"
      ],
      "metadata": {
        "id": "9kgS3Ra6SVpz"
      },
      "execution_count": 1,
      "outputs": []
    },
    {
      "cell_type": "markdown",
      "source": [
        "## Gerir Clientes\n",
        "\n",
        "\n",
        "\n",
        "*   Esta classe permite gerir os clientes do sistema de aluguer, incluindo o registo, atualização e listagem dos dados pessoais.\n",
        "\n",
        "\n"
      ],
      "metadata": {
        "id": "HCA7WM6aXMyC"
      }
    },
    {
      "cell_type": "code",
      "source": [
        "class GestorClientes:\n",
        "    def __init__(self):\n",
        "        self.clientes = {}\n",
        "\n",
        "    def adicionar_cliente(self, nif, nome, data_nascimento):\n",
        "        if nif in self.clientes:\n",
        "            print(f\"Erro: O cliente com o NIF: {nif} já existe no sistema.\")\n",
        "            return\n",
        "\n",
        "        self.clientes[nif] = {\n",
        "            \"Nome\": nome,\n",
        "            \"Data de Nascimento\": data_nascimento\n",
        "        }\n",
        "        print(f\"Cliente com NIF: {nif} adicionado com sucesso!\")\n",
        "\n",
        "    def atualizar_cliente(self, nif, novo_nif=None, nome=None, data_nascimento=None):\n",
        "        if nif not in self.clientes:\n",
        "            print(f\"Erro: O cliente com o NIF {nif} não existe no sistema.\")\n",
        "            return\n",
        "\n",
        "        cliente = self.clientes.pop(nif)\n",
        "\n",
        "        if novo_nif:\n",
        "            if novo_nif in self.clientes:\n",
        "                print(f\"Erro: O novo NIF {novo_nif} já existe no sistema.\")\n",
        "                self.clientes[nif] = cliente\n",
        "                return\n",
        "            nif = novo_nif\n",
        "\n",
        "        if nome:\n",
        "            cliente[\"Nome\"] = nome\n",
        "        if data_nascimento:\n",
        "            cliente[\"Data de Nascimento\"] = data_nascimento\n",
        "\n",
        "        self.clientes[nif] = cliente\n",
        "        print(f\"Cliente atualizado com sucesso!\")\n",
        "\n",
        "    def listar_clientes(self):\n",
        "        if not self.clientes:\n",
        "            print(\"Nenhum cliente cadastrado.\")\n",
        "        else:\n",
        "            print(\"+------------+----------------------+------------------+\")\n",
        "            print(\"| NIF        | Nome                 | Data de Nasc.    |\")\n",
        "            print(\"+------------+----------------------+------------------+\")\n",
        "            for nif, dados in self.clientes.items():\n",
        "                print(f\"| {nif:<10} | {dados['Nome']:<20} | {dados['Data de Nascimento']:<16} |\")\n",
        "            print(\"+------------+----------------------+------------------+\")"
      ],
      "metadata": {
        "id": "kPuhBY8RXPlL"
      },
      "execution_count": 2,
      "outputs": []
    },
    {
      "cell_type": "markdown",
      "source": [
        "## Gerir Alugueres\n",
        "\n",
        "*   Esta classe permite gerir os alugueres, garantindo que não há conflitos de datas, regista operações e gera relatórios.\n",
        "\n"
      ],
      "metadata": {
        "id": "r3xrZvE2L9or"
      }
    },
    {
      "cell_type": "code",
      "source": [
        "class GestorAlugueres:\n",
        "    def __init__(self):\n",
        "        self.alugueres = []\n",
        "\n",
        "    def adicionar_aluguer(self, nif_cliente, matricula_veiculo, data_inicio, data_fim, gestor_veiculos, gestor_clientes):\n",
        "        if nif_cliente not in gestor_clientes.clientes:\n",
        "            print(f\"Erro: Cliente com NIF {nif_cliente} não existe.\")\n",
        "            return\n",
        "        if matricula_veiculo not in gestor_veiculos.veiculos:\n",
        "            print(f\"Erro: Veículo com matrícula {matricula_veiculo} não existe.\")\n",
        "            return\n",
        "\n",
        "        for aluguer in self.alugueres:\n",
        "            if aluguer[\"Matrícula\"] == matricula_veiculo:\n",
        "                inicio_existente = datetime.strptime(aluguer[\"Início\"], \"%d-%m-%Y\")\n",
        "                fim_existente = datetime.strptime(aluguer[\"Fim\"], \"%d-%m-%Y\")\n",
        "                novo_inicio = datetime.strptime(data_inicio, \"%d-%m-%Y\")\n",
        "                novo_fim = datetime.strptime(data_fim, \"%d-%m-%Y\")\n",
        "\n",
        "                if (novo_inicio <= fim_existente and novo_fim >= inicio_existente):\n",
        "                    print(f\"Erro: Veículo {matricula_veiculo} já está alugado nesse intervalo.\")\n",
        "                    return\n",
        "\n",
        "        inicio = datetime.strptime(data_inicio, \"%d-%m-%Y\")\n",
        "        fim = datetime.strptime(data_fim, \"%d-%m-%Y\")\n",
        "        dias = (fim - inicio).days + 1\n",
        "        preco_dia = gestor_veiculos.veiculos[matricula_veiculo][\"Preço/Dia\"]\n",
        "        total = dias * preco_dia\n",
        "\n",
        "        self.alugueres.append({\n",
        "            \"NIF\": nif_cliente,\n",
        "            \"Matrícula\": matricula_veiculo,\n",
        "            \"Início\": data_inicio,\n",
        "            \"Fim\": data_fim,\n",
        "            \"Total\": total\n",
        "        })\n",
        "        print(f\"Aluguer registado: {nif_cliente} -> {matricula_veiculo} de {data_inicio} a {data_fim} | Total: {total:.2f}€\")\n",
        "\n",
        "    def listar_alugueres(self):\n",
        "        if not self.alugueres:\n",
        "            print(\"Nenhum aluguer registado.\")\n",
        "        else:\n",
        "            print(\"+------------+------------+------------+------------+------------+\")\n",
        "            print(\"| NIF        | Matrícula  | Início     | Fim        | Total (€)  |\")\n",
        "            print(\"+------------+------------+------------+------------+------------+\")\n",
        "            for aluguer in self.alugueres:\n",
        "                print(f\"| {aluguer['NIF']:<10} | {aluguer['Matrícula']:<10} | {aluguer['Início']:<10} | {aluguer['Fim']:<10} | {aluguer['Total']:<10.2f} |\")\n",
        "            print(\"+------------+------------+------------+------------+------------+\")\n",
        "\n",
        "    def veiculos_disponiveis(self, data_inicio, data_fim, gestor_veiculos):\n",
        "        inicio = datetime.strptime(data_inicio, \"%d-%m-%Y\")\n",
        "        fim = datetime.strptime(data_fim, \"%d-%m-%Y\")\n",
        "\n",
        "        veiculos_ocupados = set()\n",
        "\n",
        "        for aluguer in self.alugueres:\n",
        "            aluguer_inicio = datetime.strptime(aluguer[\"Início\"], \"%d-%m-%Y\")\n",
        "            aluguer_fim = datetime.strptime(aluguer[\"Fim\"], \"%d-%m-%Y\")\n",
        "\n",
        "            # Verifica sobreposição de datas\n",
        "            if (inicio <= aluguer_fim and fim >= aluguer_inicio):\n",
        "                veiculos_ocupados.add(aluguer[\"Matrícula\"])\n",
        "\n",
        "        print(f\"\\nVEÍCULOS DISPONÍVEIS de {data_inicio} a {data_fim}\")\n",
        "        print(\"=\" * 60)\n",
        "        disponiveis = False\n",
        "        for matricula, dados in gestor_veiculos.veiculos.items():\n",
        "            if matricula not in veiculos_ocupados:\n",
        "                print(f\"- {matricula}: {dados['Marca']} {dados['Modelo']} ({dados['Preço/Dia']}€/dia)\")\n",
        "                disponiveis = True\n",
        "\n",
        "        if not disponiveis:\n",
        "            print(\"Nenhum veículo disponível neste período.\")\n",
        "\n",
        "    def veiculos_mais_alugados(self, top_n=5):\n",
        "        contagem = defaultdict(int)\n",
        "\n",
        "        for aluguer in self.alugueres:\n",
        "            contagem[aluguer[\"Matrícula\"]] += 1\n",
        "\n",
        "        if not contagem:\n",
        "            print(\"Nenhum aluguer registado.\")\n",
        "            return\n",
        "\n",
        "        print(f\"\\nTOP {top_n} VEÍCULOS MAIS ALUGADOS\")\n",
        "        print(\"=\" * 40)\n",
        "        for matricula, quantidade in sorted(contagem.items(), key=lambda x: x[1], reverse=True)[:top_n]:\n",
        "            print(f\"Matrícula: {matricula} | Nº de alugueres: {quantidade}\")\n",
        "        print(\"=\" * 40)\n",
        "\n",
        "    def relatorio_faturacao(self, periodo='mes'):\n",
        "        \"\"\"Gera relatório de faturação agrupado por período\"\"\"\n",
        "        faturamento = defaultdict(float)\n",
        "\n",
        "        for aluguer in self.alugueres:\n",
        "            data = datetime.strptime(aluguer['Início'], '%d-%m-%Y')\n",
        "\n",
        "            if periodo == 'ano':\n",
        "                chave = data.year\n",
        "            elif periodo == 'mes':\n",
        "                chave = f\"{data.year}-{data.month:02d}\"\n",
        "            elif periodo == 'semana':\n",
        "                chave = f\"{data.year}-W{data.isocalendar()[1]:02d}\"\n",
        "\n",
        "            faturamento[chave] += aluguer['Total']\n",
        "\n",
        "        # Exibir resultados\n",
        "        print(f\"\\nRELATÓRIO DE FATURAÇÃO ({periodo.upper()})\")\n",
        "        print(\"=\"*40)\n",
        "        for periodo, total in sorted(faturamento.items()):\n",
        "            print(f\"{periodo}: {total:.2f}€\")\n",
        "        print(\"=\"*40)\n",
        "        print(f\"TOTAL GERAL: {sum(faturamento.values()):.2f}€\\n\")\n",
        "\n",
        "    def relatorio_detalhado(self, periodo='mes'):\n",
        "        \"\"\"Relatório detalhado com aluguéis por período\"\"\"\n",
        "        periodos = defaultdict(list)\n",
        "\n",
        "        for aluguer in self.alugueres:\n",
        "            data = datetime.strptime(aluguer['Início'], '%d-%m-%Y')\n",
        "\n",
        "            if periodo == 'ano':\n",
        "                chave = data.year\n",
        "            elif periodo == 'mes':\n",
        "                chave = f\"{data.year}-{data.month:02d}\"\n",
        "            elif periodo == 'semana':\n",
        "                chave = f\"{data.year}-W{data.isocalendar()[1]:02d}\"\n",
        "\n",
        "            periodos[chave].append(aluguer)\n",
        "\n",
        "        # Exibir resultados\n",
        "        print(f\"\\nRELATÓRIO DETALHADO ({periodo.upper()})\")\n",
        "        print(\"=\"*70)\n",
        "        for periodo, alugueres in sorted(periodos.items()):\n",
        "            print(f\"\\nPERÍODO: {periodo}\")\n",
        "            print(\"-\"*70)\n",
        "            total_periodo = sum(a['Total'] for a in alugueres)\n",
        "            for aluguer in alugueres:\n",
        "                print(f\"{aluguer['Início']} a {aluguer['Fim']} | \"\n",
        "                      f\"Veículo: {aluguer['Matrícula']} | \"\n",
        "                      f\"Cliente: {aluguer['NIF']} | \"\n",
        "                      f\"Total: {aluguer['Total']:.2f}€\")\n",
        "            print(f\"\\nTOTAL DO PERÍODO: {total_periodo:.2f}€\")\n",
        "        print(\"=\"*70)"
      ],
      "metadata": {
        "id": "DsMMNV_BL7FS"
      },
      "execution_count": 3,
      "outputs": []
    },
    {
      "cell_type": "code",
      "source": [
        "gestor_veiculos = GestorVeiculos()\n",
        "gestor_clientes = GestorClientes()\n",
        "gestor_alugueres = GestorAlugueres()"
      ],
      "metadata": {
        "id": "ZkW2TNllSijw"
      },
      "execution_count": 5,
      "outputs": []
    },
    {
      "cell_type": "markdown",
      "source": [
        "# Exemplos de Uso: Veículos"
      ],
      "metadata": {
        "id": "DVh1THFMNwk8"
      }
    },
    {
      "cell_type": "markdown",
      "source": [
        "## Adicionar Veículos\n",
        "\n",
        "*   Este bloco de código serve para testar a funcionalidade de adição de veículos, validando tanto os casos de sucesso como um caso de erro:\n",
        "\n",
        "\n",
        "\n"
      ],
      "metadata": {
        "id": "Y_Pf9uk4TZiq"
      }
    },
    {
      "cell_type": "code",
      "source": [
        "# Adição de veículos diferentes sem dar erros\n",
        "gestor_veiculos.adicionar_veiculo(\"AA-00-BB\", \"Ford\", \"Focus\", \"2019\", \"Diesel\", 40000, 25.5) # Matricula, Marca, Modelo, Ano, Combustível, Quilómetros, Preço/Dia\n",
        "gestor_veiculos.adicionar_veiculo(\"ZZ-11-CC\", \"Peugeot\", \"208\", \"2021\", \"Gasolina\", 30000, 30)\n",
        "gestor_veiculos.adicionar_veiculo(\"CC-00-BB\", \"Honda\", \"Civic\", \"2018\", \"Gasolina\", 60000, 22)\n",
        "\n",
        "# Adição de veículo para provocar o erro de matrícula repetida\n",
        "gestor_veiculos.adicionar_veiculo(\"AA-00-BB\", \"Honda\", \"Civic\", \"2018\", \"Gasolina\", 60000, 25.5)"
      ],
      "metadata": {
        "id": "SyueeN4gSlFj",
        "colab": {
          "base_uri": "https://localhost:8080/"
        },
        "outputId": "20e1c0d3-e84d-4d46-92d8-b82bb90767a9"
      },
      "execution_count": 6,
      "outputs": [
        {
          "output_type": "stream",
          "name": "stdout",
          "text": [
            "Veículo com matrícula AA-00-BB adicionado com sucesso!\n",
            "Veículo com matrícula ZZ-11-CC adicionado com sucesso!\n",
            "Veículo com matrícula CC-00-BB adicionado com sucesso!\n",
            "Erro: O veículo com a matrícula AA-00-BB já existe no sistema.\n"
          ]
        }
      ]
    },
    {
      "cell_type": "markdown",
      "source": [
        "## Atualizar Veículo\n",
        "\n",
        "*   Este bloco de testes cobre três cenários distintos e importantes relacionados com a atualização de veículos\n"
      ],
      "metadata": {
        "id": "mNJxDFfpR8Fq"
      }
    },
    {
      "cell_type": "code",
      "source": [
        "# Atualização do veículo sem dar erros\n",
        "gestor_veiculos.atualizar_veiculo(\"AA-00-BB\", nova_matricula=\"XY-98-ZT\", marca=\"Seat\", modelo=\"Ibiza\", data=\"2010\", combustivel=\"Diesel\", quilometros=120000, preco_dia=25.5)\n",
        "\n",
        "# Atualização do veículo para provocar o erro de matrícula inexistente\n",
        "gestor_veiculos.atualizar_veiculo(\"BB-00-BB\", nova_matricula=\"XY-98-ZT\", marca=\"Seat\", modelo=\"Ibiza\", data=\"2010\", combustivel=\"Diesel\", quilometros=75000, preco_dia=25.5)\n",
        "\n",
        "# Atualização do veículo para provocar o erro de nova matrícula repetida\n",
        "gestor_veiculos.atualizar_veiculo(\"CC-00-BB\", nova_matricula=\"ZZ-11-CC\", marca=\"Seat\", modelo=\"Ibiza\", data=\"2010\", combustivel=\"Diesel\", quilometros=75000, preco_dia=25.5)"
      ],
      "metadata": {
        "colab": {
          "base_uri": "https://localhost:8080/"
        },
        "id": "AJovuFkPSC4Y",
        "outputId": "dae5431d-acc8-4ef2-fd6f-71bd1a379e71"
      },
      "execution_count": 7,
      "outputs": [
        {
          "output_type": "stream",
          "name": "stdout",
          "text": [
            "Veículo atualizado com sucesso!\n",
            "Erro: O veículo com a matrícula BB-00-BB não existe no sistema.\n",
            "Erro: A nova matrícula ZZ-11-CC já existe no sistema.\n"
          ]
        }
      ]
    },
    {
      "cell_type": "markdown",
      "source": [
        "## Listar Veículos\n",
        "\n",
        "*   Este bloco de chamadas vai testar funcionalidades importantes relacionadas com a gestão da frota de veículos\n",
        "\n"
      ],
      "metadata": {
        "id": "pFb9rXwqTfVu"
      }
    },
    {
      "cell_type": "code",
      "source": [
        "# Listar todos os veículos\n",
        "gestor_veiculos.listar_veiculos()"
      ],
      "metadata": {
        "id": "g7sHpuakSo_f",
        "colab": {
          "base_uri": "https://localhost:8080/"
        },
        "outputId": "85b0556c-a2cd-4115-8898-50d6840ba961"
      },
      "execution_count": 8,
      "outputs": [
        {
          "output_type": "stream",
          "name": "stdout",
          "text": [
            "+------------+--------------+--------------+------+-------------+-------------+------------+\n",
            "| Matrícula  | Marca        | Modelo       | Data | Combustível | Quilómetros | Preço/Dia  |\n",
            "+------------+--------------+--------------+------+-------------+-------------+------------+\n",
            "| ZZ-11-CC   | Peugeot      | 208          | 2021 | Gasolina    | 30000       | 30.00      |\n",
            "| XY-98-ZT   | Seat         | Ibiza        | 2010 | Diesel      | 120000      | 25.50      |\n",
            "| CC-00-BB   | Honda        | Civic        | 2018 | Gasolina    | 60000       | 22.00      |\n",
            "+------------+--------------+--------------+------+-------------+-------------+------------+\n"
          ]
        }
      ]
    },
    {
      "cell_type": "code",
      "source": [
        "# Listar a distância total percorrida pela frota\n",
        "gestor_veiculos.quilometragem_total()"
      ],
      "metadata": {
        "colab": {
          "base_uri": "https://localhost:8080/"
        },
        "id": "UbIVHsVKOc7l",
        "outputId": "9c642a35-9fd6-4e10-e910-a4f6f7eebf76"
      },
      "execution_count": 9,
      "outputs": [
        {
          "output_type": "stream",
          "name": "stdout",
          "text": [
            "\n",
            "Distância total percorrida pela frota: 210000 km\n"
          ]
        }
      ]
    },
    {
      "cell_type": "code",
      "source": [
        "# Listar os veículos com mais de 100000km e com necessidade de manutenção preventiva\n",
        "gestor_veiculos.manutencao_preventiva(100000)"
      ],
      "metadata": {
        "colab": {
          "base_uri": "https://localhost:8080/"
        },
        "id": "edqF3k7AwgI0",
        "outputId": "e73fbad0-3929-4119-f840-7cf03c6af7f3"
      },
      "execution_count": 10,
      "outputs": [
        {
          "output_type": "stream",
          "name": "stdout",
          "text": [
            "\n",
            "Veículos com mais de 100000 km (sugerido para manutenção preventiva):\n",
            "- XY-98-ZT: Seat Ibiza | 120000 km\n"
          ]
        }
      ]
    },
    {
      "cell_type": "markdown",
      "source": [
        "## Listar Veículos Disponíveis em Determinado Período\n",
        "\n",
        "*   O sistema vai verificar se algum veículo da frota está ocupado nesse período específico\n",
        "\n"
      ],
      "metadata": {
        "id": "t52boPcGR7-Q"
      }
    },
    {
      "cell_type": "code",
      "source": [
        "gestor_alugueres.veiculos_disponiveis(\"13-05-2025\", \"15-05-2025\", gestor_veiculos)"
      ],
      "metadata": {
        "id": "-PMxw3b0SGKD",
        "colab": {
          "base_uri": "https://localhost:8080/"
        },
        "outputId": "3ad682e8-5888-4248-8528-63dbfc16bb1b"
      },
      "execution_count": 11,
      "outputs": [
        {
          "output_type": "stream",
          "name": "stdout",
          "text": [
            "\n",
            "VEÍCULOS DISPONÍVEIS de 13-05-2025 a 15-05-2025\n",
            "============================================================\n",
            "- ZZ-11-CC: Peugeot 208 (30€/dia)\n",
            "- XY-98-ZT: Seat Ibiza (25.5€/dia)\n",
            "- CC-00-BB: Honda Civic (22€/dia)\n"
          ]
        }
      ]
    },
    {
      "cell_type": "markdown",
      "source": [
        "# Exemplos de Uso: Clientes"
      ],
      "metadata": {
        "id": "5F9AYktjN4NH"
      }
    },
    {
      "cell_type": "markdown",
      "source": [
        "## Adicionar Clientes\n",
        "\n",
        "*   Este código implementa a classe GestorClientes, que tem como objetivo gerir o registo dos clientes no sistema. O sistema permite adicionar novos clientes, atualizar os seus dados e listar todos os clientes cadastrados. Cada cliente é identificado de forma única pelo seu NIF (Número de Identificação Fiscal).\n",
        "\n"
      ],
      "metadata": {
        "id": "YZD8lnuvXTAp"
      }
    },
    {
      "cell_type": "code",
      "source": [
        "# Adição de clientes diferentes sem dar erros\n",
        "gestor_clientes.adicionar_cliente(\"111222333\", \"Ana Costa\", \"10-03-1990\") # NIF, Nome, Data Nascimento\n",
        "gestor_clientes.adicionar_cliente(\"444555666\", \"Carlos Martins\", \"21-07-1982\")\n",
        "gestor_clientes.adicionar_cliente(\"555555666\", \"Maria Oliveira\", \"20-10-1985\")\n",
        "\n",
        "# Adição de clientes para provocar o erro de NIF repetido\n",
        "gestor_clientes.adicionar_cliente(\"111222333\", \"Maria Oliveira\", \"20-10-1985\")"
      ],
      "metadata": {
        "id": "udBZil81XVtm",
        "outputId": "344a8f4a-3ed8-4e1d-b60c-d8b20b71e82a",
        "colab": {
          "base_uri": "https://localhost:8080/"
        }
      },
      "execution_count": 12,
      "outputs": [
        {
          "output_type": "stream",
          "name": "stdout",
          "text": [
            "Cliente com NIF: 111222333 adicionado com sucesso!\n",
            "Cliente com NIF: 444555666 adicionado com sucesso!\n",
            "Cliente com NIF: 555555666 adicionado com sucesso!\n",
            "Erro: O cliente com o NIF: 111222333 já existe no sistema.\n"
          ]
        }
      ]
    },
    {
      "cell_type": "markdown",
      "source": [
        "## Atualizar Cliente"
      ],
      "metadata": {
        "id": "kKRbcs5gS-fj"
      }
    },
    {
      "cell_type": "code",
      "source": [
        "# Atualização dos dados do cliente sem dar erros\n",
        "gestor_clientes.atualizar_cliente(\"111222333\", novo_nif=\"987654321\", nome=\"João Pedro\", data_nascimento=\"20-06-1991\")\n",
        "\n",
        "# Atualização dos dados do cliente para provocar o erro de NIF inexistente\n",
        "gestor_clientes.atualizar_cliente(\"131222333\", novo_nif=\"982654321\", nome=\"João Pedro\", data_nascimento=\"20-06-1991\")\n",
        "\n",
        "# Atualização dos dados do cliente para provocar o erro de novo NIF repetido\n",
        "gestor_clientes.atualizar_cliente(\"555555666\", novo_nif=\"444555666\", nome=\"João Pedro\", data_nascimento=\"20-06-1991\")"
      ],
      "metadata": {
        "id": "1VV4ZxYnTCog",
        "colab": {
          "base_uri": "https://localhost:8080/"
        },
        "outputId": "e6ff9166-b32d-41eb-e421-12c9bc9b02e7"
      },
      "execution_count": 13,
      "outputs": [
        {
          "output_type": "stream",
          "name": "stdout",
          "text": [
            "Cliente atualizado com sucesso!\n",
            "Erro: O cliente com o NIF 131222333 não existe no sistema.\n",
            "Erro: O novo NIF 444555666 já existe no sistema.\n"
          ]
        }
      ]
    },
    {
      "cell_type": "markdown",
      "source": [
        "## Listar Clientes"
      ],
      "metadata": {
        "id": "7AtwYQ_BXbts"
      }
    },
    {
      "cell_type": "code",
      "source": [
        "# Listar todos os clientes\n",
        "gestor_clientes.listar_clientes()"
      ],
      "metadata": {
        "id": "WtTbc9dIXgj1",
        "outputId": "56eee533-15fe-47b0-cb34-1bf2859a249c",
        "colab": {
          "base_uri": "https://localhost:8080/"
        }
      },
      "execution_count": 14,
      "outputs": [
        {
          "output_type": "stream",
          "name": "stdout",
          "text": [
            "+------------+----------------------+------------------+\n",
            "| NIF        | Nome                 | Data de Nasc.    |\n",
            "+------------+----------------------+------------------+\n",
            "| 444555666  | Carlos Martins       | 21-07-1982       |\n",
            "| 987654321  | João Pedro           | 20-06-1991       |\n",
            "| 555555666  | Maria Oliveira       | 20-10-1985       |\n",
            "+------------+----------------------+------------------+\n"
          ]
        }
      ]
    },
    {
      "cell_type": "markdown",
      "source": [
        "# Exemplos de Uso: Alugueres"
      ],
      "metadata": {
        "id": "hkXU4HJaRa6T"
      }
    },
    {
      "cell_type": "markdown",
      "source": [
        "## Registar Alugueres\n",
        "\n",
        "\n",
        "*   Este código implementa a classe GestorAlugueres, que tem como objetivo gerir os alugueres de veículos no sistema\n",
        "\n",
        "\n"
      ],
      "metadata": {
        "id": "UBIfR-G5RtjA"
      }
    },
    {
      "cell_type": "code",
      "source": [
        "# Criar alugueres\n",
        "gestor_alugueres.adicionar_aluguer(\"987654321\", \"XY-98-ZT\", \"01-05-2025\", \"10-05-2025\", gestor_veiculos, gestor_clientes) # NIF Cliente, Matrícula Veículo, Data Início, Data Fim\n",
        "gestor_alugueres.adicionar_aluguer(\"444555666\", \"ZZ-11-CC\", \"05-05-2025\", \"15-05-2025\", gestor_veiculos, gestor_clientes)\n",
        "\n",
        "# Erro aluguer sobreposto\n",
        "gestor_alugueres.adicionar_aluguer(\"444555666\", \"XY-98-ZT\", \"08-05-2025\", \"12-05-2025\", gestor_veiculos, gestor_clientes)\n",
        "\n",
        "# Erro NIF inexistente\n",
        "gestor_alugueres.adicionar_aluguer(\"111222333\", \"XY-98-ZT\", \"01-05-2025\", \"10-05-2025\", gestor_veiculos, gestor_clientes)\n",
        "\n",
        "# Erro matrícula inexistente\n",
        "gestor_alugueres.adicionar_aluguer(\"987654321\", \"AA-00-BB\", \"01-05-2025\", \"10-05-2025\", gestor_veiculos, gestor_clientes)"
      ],
      "metadata": {
        "colab": {
          "base_uri": "https://localhost:8080/"
        },
        "id": "PXucLtn8RlNB",
        "outputId": "2c1a52c6-8c6f-49cc-8800-0a5a8b5aee79"
      },
      "execution_count": 15,
      "outputs": [
        {
          "output_type": "stream",
          "name": "stdout",
          "text": [
            "Aluguer registado: 987654321 -> XY-98-ZT de 01-05-2025 a 10-05-2025 | Total: 255.00€\n",
            "Aluguer registado: 444555666 -> ZZ-11-CC de 05-05-2025 a 15-05-2025 | Total: 330.00€\n",
            "Erro: Veículo XY-98-ZT já está alugado nesse intervalo.\n",
            "Erro: Cliente com NIF 111222333 não existe.\n",
            "Erro: Veículo com matrícula AA-00-BB não existe.\n"
          ]
        }
      ]
    },
    {
      "cell_type": "markdown",
      "source": [
        "## Listar Alugueres"
      ],
      "metadata": {
        "id": "Fml2WxZbS_nE"
      }
    },
    {
      "cell_type": "code",
      "source": [
        "# Listar todos os alugueres\n",
        "gestor_alugueres.listar_alugueres()"
      ],
      "metadata": {
        "colab": {
          "base_uri": "https://localhost:8080/"
        },
        "id": "Z4RaMbSlTExV",
        "outputId": "3a9c5656-3780-40b3-a084-992ea2e0202a"
      },
      "execution_count": 16,
      "outputs": [
        {
          "output_type": "stream",
          "name": "stdout",
          "text": [
            "+------------+------------+------------+------------+------------+\n",
            "| NIF        | Matrícula  | Início     | Fim        | Total (€)  |\n",
            "+------------+------------+------------+------------+------------+\n",
            "| 987654321  | XY-98-ZT   | 01-05-2025 | 10-05-2025 | 255.00     |\n",
            "| 444555666  | ZZ-11-CC   | 05-05-2025 | 15-05-2025 | 330.00     |\n",
            "+------------+------------+------------+------------+------------+\n"
          ]
        }
      ]
    },
    {
      "cell_type": "code",
      "source": [
        "# Lista dos 5 veículos mais alugados\n",
        "gestor_alugueres.veiculos_mais_alugados()"
      ],
      "metadata": {
        "colab": {
          "base_uri": "https://localhost:8080/"
        },
        "id": "ka6ThmZPTHtT",
        "outputId": "050b93a7-f937-4151-aee5-5308d67ca442"
      },
      "execution_count": 17,
      "outputs": [
        {
          "output_type": "stream",
          "name": "stdout",
          "text": [
            "\n",
            "TOP 5 VEÍCULOS MAIS ALUGADOS\n",
            "========================================\n",
            "Matrícula: XY-98-ZT | Nº de alugueres: 1\n",
            "Matrícula: ZZ-11-CC | Nº de alugueres: 1\n",
            "========================================\n"
          ]
        }
      ]
    },
    {
      "cell_type": "markdown",
      "source": [
        "## Relatórios de Faturação\n",
        "\n",
        "*   A função relatorio_faturacao tem como objetivo gerar um relatório que agrupe os alugueres por períodos específicos (semana, mês ou ano) e calcule a faturação total de cada período.\n",
        "\n",
        "\n"
      ],
      "metadata": {
        "id": "AyNNBfShTh6A"
      }
    },
    {
      "cell_type": "code",
      "source": [
        "# Exibir Relatórios\n",
        "gestor_alugueres.relatorio_faturacao('semana')  # Por semana"
      ],
      "metadata": {
        "colab": {
          "base_uri": "https://localhost:8080/"
        },
        "id": "VDnzNsW8Tloj",
        "outputId": "c3e0f166-0d2b-4bd4-9d61-6b2e0e7ac96a"
      },
      "execution_count": 18,
      "outputs": [
        {
          "output_type": "stream",
          "name": "stdout",
          "text": [
            "\n",
            "RELATÓRIO DE FATURAÇÃO (SEMANA)\n",
            "========================================\n",
            "2025-W18: 255.00€\n",
            "2025-W19: 330.00€\n",
            "========================================\n",
            "TOTAL GERAL: 585.00€\n",
            "\n"
          ]
        }
      ]
    },
    {
      "cell_type": "code",
      "source": [
        "gestor_alugueres.relatorio_faturacao('mes')     # Por mês"
      ],
      "metadata": {
        "colab": {
          "base_uri": "https://localhost:8080/"
        },
        "id": "MmL9glRoyfUQ",
        "outputId": "47cd45a9-338c-4fa1-d6ef-9ef2ed27f53c"
      },
      "execution_count": 19,
      "outputs": [
        {
          "output_type": "stream",
          "name": "stdout",
          "text": [
            "\n",
            "RELATÓRIO DE FATURAÇÃO (MES)\n",
            "========================================\n",
            "2025-05: 585.00€\n",
            "========================================\n",
            "TOTAL GERAL: 585.00€\n",
            "\n"
          ]
        }
      ]
    },
    {
      "cell_type": "code",
      "source": [
        "gestor_alugueres.relatorio_faturacao('ano')     # Por ano"
      ],
      "metadata": {
        "colab": {
          "base_uri": "https://localhost:8080/"
        },
        "id": "i_GrA0LByfnC",
        "outputId": "824f00fe-b91c-4a02-9646-73389c389337"
      },
      "execution_count": 20,
      "outputs": [
        {
          "output_type": "stream",
          "name": "stdout",
          "text": [
            "\n",
            "RELATÓRIO DE FATURAÇÃO (ANO)\n",
            "========================================\n",
            "2025: 585.00€\n",
            "========================================\n",
            "TOTAL GERAL: 585.00€\n",
            "\n"
          ]
        }
      ]
    }
  ]
}